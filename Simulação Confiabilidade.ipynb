{
  "nbformat": 4,
  "nbformat_minor": 0,
  "metadata": {
    "colab": {
      "provenance": []
    },
    "kernelspec": {
      "name": "python3",
      "display_name": "Python 3"
    },
    "language_info": {
      "name": "python"
    }
  },
  "cells": [
    {
      "cell_type": "code",
      "execution_count": 221,
      "metadata": {
        "id": "AqGBrdwZha4Q"
      },
      "outputs": [],
      "source": [
        "import random\n",
        "import math\n",
        "import numpy as np\n",
        "\n",
        "def calcular_momento_flexor(L, w, P, x):\n",
        "    if x <= L / 2:\n",
        "        momento_maximo = (w * L ** 2) / 8 + (P * L * x) / 2 - (w * x ** 2) / 2\n",
        "    else:\n",
        "        momento_maximo = (w * L ** 2) / 8 + (P * L * (L - x)) / 2 - (w * (L - x) ** 2) / 2\n",
        "\n",
        "    return momento_maximo\n",
        "\n",
        "\n",
        "def calcular_momento_inercia(b, h):\n",
        "    return (b * (h ** 2)) / 6\n",
        "\n",
        "\n",
        "def calcular_tensao_flexao_max(momento_flexor_max, momento_inercia):\n",
        "    return momento_flexor_max / momento_inercia\n"
      ]
    },
    {
      "cell_type": "code",
      "source": [
        "comprimento_viga = 6.7\n",
        "b = 0.22\n",
        "h = 0.68\n",
        "carga_uniforme = 1500\n",
        "carga_concentrada = 12000\n",
        "iteracoes = 10000"
      ],
      "metadata": {
        "id": "ud7lUKIC1sH5"
      },
      "execution_count": 222,
      "outputs": []
    },
    {
      "cell_type": "code",
      "source": [
        "posicao_carga_concentrada_arr  = np.random.normal(5, 2, size=iteracoes)\n",
        "valores_ajustados = np.clip(posicao_carga_concentrada_arr, 0, comprimento_viga)\n",
        "\n",
        "sucesso = 0\n",
        "total = 0\n",
        "for valor in valores_ajustados:\n",
        "  momento_flexor_max = calcular_momento_flexor(comprimento_viga, carga_uniforme, carga_concentrada, valor)\n",
        "  momento_inercia = calcular_momento_inercia(b,h)\n",
        "  tensao_flexao_max = calcular_tensao_flexao_max(momento_flexor_max, momento_inercia) / 10**6\n",
        "  if (tensao_flexao_max < 7.5):\n",
        "    sucesso += 1\n",
        "\n",
        "\n",
        "cofiabilidade = sucesso/iteracoes\n",
        "\n",
        "print(cofiabilidade)"
      ],
      "metadata": {
        "colab": {
          "base_uri": "https://localhost:8080/"
        },
        "id": "clsr-BtjDpri",
        "outputId": "3b6ed1d0-8982-4605-d99b-6b90923ed74d"
      },
      "execution_count": 225,
      "outputs": [
        {
          "output_type": "stream",
          "name": "stdout",
          "text": [
            "0.9411\n"
          ]
        }
      ]
    }
  ]
}